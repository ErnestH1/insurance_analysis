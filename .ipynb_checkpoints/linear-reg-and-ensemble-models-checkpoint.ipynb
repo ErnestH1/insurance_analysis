{
 "cells": [
  {
   "cell_type": "code",
   "execution_count": 1,
   "metadata": {
    "execution": {
     "iopub.execute_input": "2023-12-27T14:20:25.285924Z",
     "iopub.status.busy": "2023-12-27T14:20:25.285587Z",
     "iopub.status.idle": "2023-12-27T14:20:27.605099Z",
     "shell.execute_reply": "2023-12-27T14:20:27.603496Z",
     "shell.execute_reply.started": "2023-12-27T14:20:25.285898Z"
    }
   },
   "outputs": [],
   "source": [
    "# import libraries\n",
    "import numpy as np\n",
    "import pandas as pd\n",
    "import matplotlib.pyplot as plt\n",
    "import seaborn as sns\n",
    "from sklearn.model_selection import train_test_split\n",
    "from sklearn.linear_model import LinearRegression\n",
    "from sklearn.metrics import r2_score,mean_squared_error,mean_absolute_error\n",
    "from sklearn.preprocessing import StandardScaler\n",
    "from sklearn.ensemble import GradientBoostingRegressor"
   ]
  },
  {
   "cell_type": "code",
   "execution_count": 2,
   "metadata": {
    "execution": {
     "iopub.execute_input": "2023-12-27T14:20:27.609559Z",
     "iopub.status.busy": "2023-12-27T14:20:27.60904Z",
     "iopub.status.idle": "2023-12-27T14:20:27.658268Z",
     "shell.execute_reply": "2023-12-27T14:20:27.657181Z",
     "shell.execute_reply.started": "2023-12-27T14:20:27.609529Z"
    }
   },
   "outputs": [
    {
     "ename": "SyntaxError",
     "evalue": "unterminated string literal (detected at line 2) (1544838953.py, line 2)",
     "output_type": "error",
     "traceback": [
      "\u001b[1;36m  Cell \u001b[1;32mIn[2], line 2\u001b[1;36m\u001b[0m\n\u001b[1;33m    df = pd.read_csv(\"C:/Users/Admin/Desktop/Work/Projects/LMS projects/insurance.csv)\u001b[0m\n\u001b[1;37m                     ^\u001b[0m\n\u001b[1;31mSyntaxError\u001b[0m\u001b[1;31m:\u001b[0m unterminated string literal (detected at line 2)\n"
     ]
    }
   ],
   "source": [
    "# load dataset\n",
    "df = pd.read_csv(\"C:/Users/Admin/Desktop/Work/Projects/LMS projects/insurance.csv)\n",
    "df.head()"
   ]
  },
  {
   "cell_type": "code",
   "execution_count": null,
   "metadata": {
    "execution": {
     "iopub.execute_input": "2023-12-27T14:20:27.660024Z",
     "iopub.status.busy": "2023-12-27T14:20:27.659743Z",
     "iopub.status.idle": "2023-12-27T14:20:27.68664Z",
     "shell.execute_reply": "2023-12-27T14:20:27.685862Z",
     "shell.execute_reply.started": "2023-12-27T14:20:27.659997Z"
    }
   },
   "outputs": [],
   "source": [
    "df.info()"
   ]
  },
  {
   "cell_type": "code",
   "execution_count": null,
   "metadata": {
    "execution": {
     "iopub.execute_input": "2023-12-27T14:20:27.689549Z",
     "iopub.status.busy": "2023-12-27T14:20:27.688982Z",
     "iopub.status.idle": "2023-12-27T14:20:27.713741Z",
     "shell.execute_reply": "2023-12-27T14:20:27.712601Z",
     "shell.execute_reply.started": "2023-12-27T14:20:27.689512Z"
    }
   },
   "outputs": [],
   "source": [
    "df.describe()"
   ]
  },
  {
   "cell_type": "markdown",
   "metadata": {},
   "source": [
    "# EDA"
   ]
  },
  {
   "cell_type": "code",
   "execution_count": null,
   "metadata": {
    "execution": {
     "iopub.execute_input": "2023-12-27T14:20:27.716988Z",
     "iopub.status.busy": "2023-12-27T14:20:27.716252Z",
     "iopub.status.idle": "2023-12-27T14:20:27.722417Z",
     "shell.execute_reply": "2023-12-27T14:20:27.721624Z",
     "shell.execute_reply.started": "2023-12-27T14:20:27.716951Z"
    }
   },
   "outputs": [],
   "source": [
    "# define a pie plot function\n",
    "def pie_plot(column):\n",
    "       fig , ax = plt.subplots()\n",
    "       ax.pie(df[column].value_counts(),autopct=\"%0.2f%%\",\n",
    "              labels=df[column].value_counts().index)\n",
    "       ax.set(title=f\"Pie Chart of {column}\");"
   ]
  },
  {
   "cell_type": "code",
   "execution_count": null,
   "metadata": {
    "execution": {
     "iopub.execute_input": "2023-12-27T14:20:27.724869Z",
     "iopub.status.busy": "2023-12-27T14:20:27.72412Z",
     "iopub.status.idle": "2023-12-27T14:20:28.115994Z",
     "shell.execute_reply": "2023-12-27T14:20:28.115258Z",
     "shell.execute_reply.started": "2023-12-27T14:20:27.724832Z"
    }
   },
   "outputs": [],
   "source": [
    "# take a loop on categorical columns and plot the pie chart\n",
    "columns = [\"sex\",\"smoker\",\"region\"]\n",
    "\n",
    "for i in columns:\n",
    "    pie_plot(i)"
   ]
  },
  {
   "cell_type": "code",
   "execution_count": null,
   "metadata": {
    "execution": {
     "iopub.execute_input": "2023-12-27T14:20:28.117445Z",
     "iopub.status.busy": "2023-12-27T14:20:28.11701Z",
     "iopub.status.idle": "2023-12-27T14:20:28.466525Z",
     "shell.execute_reply": "2023-12-27T14:20:28.464805Z",
     "shell.execute_reply.started": "2023-12-27T14:20:28.117416Z"
    }
   },
   "outputs": [],
   "source": [
    "# plot the distribution of BMI index with histogram\n",
    "sns.histplot(data=df,x=\"bmi\",kde=True)\n",
    "plt.title(\"Distribution of BMI\")"
   ]
  },
  {
   "cell_type": "code",
   "execution_count": null,
   "metadata": {
    "execution": {
     "iopub.execute_input": "2023-12-27T14:20:28.467969Z",
     "iopub.status.busy": "2023-12-27T14:20:28.467647Z",
     "iopub.status.idle": "2023-12-27T14:20:33.763805Z",
     "shell.execute_reply": "2023-12-27T14:20:33.76206Z",
     "shell.execute_reply.started": "2023-12-27T14:20:28.467937Z"
    }
   },
   "outputs": [],
   "source": [
    "sns.violinplot(data=df,y=\"bmi\",x=\"sex\",split=True)\n",
    "sns.swarmplot(data=df,y=\"bmi\",x=\"sex\",color=\"w\")"
   ]
  },
  {
   "cell_type": "code",
   "execution_count": null,
   "metadata": {
    "execution": {
     "iopub.execute_input": "2023-12-27T14:20:33.766747Z",
     "iopub.status.busy": "2023-12-27T14:20:33.766303Z",
     "iopub.status.idle": "2023-12-27T14:20:34.09067Z",
     "shell.execute_reply": "2023-12-27T14:20:34.089064Z",
     "shell.execute_reply.started": "2023-12-27T14:20:33.766713Z"
    }
   },
   "outputs": [],
   "source": [
    "sns.kdeplot(df[\"age\"],fill=True,color=\"m\")\n",
    "sns.rugplot(df[\"age\"],height=0.05)"
   ]
  },
  {
   "cell_type": "code",
   "execution_count": null,
   "metadata": {
    "execution": {
     "iopub.execute_input": "2023-12-27T14:20:34.094826Z",
     "iopub.status.busy": "2023-12-27T14:20:34.094463Z",
     "iopub.status.idle": "2023-12-27T14:20:34.307995Z",
     "shell.execute_reply": "2023-12-27T14:20:34.306541Z",
     "shell.execute_reply.started": "2023-12-27T14:20:34.094795Z"
    }
   },
   "outputs": [],
   "source": [
    "# plot the boxplot the 2features of the dataset(age and BMI)\n",
    "fig , ax = plt.subplots(figsize=(10,6))\n",
    "boxplot = ax.boxplot(df[[\"age\", \"bmi\"]].values, patch_artist=True, notch=True)\n",
    "\n",
    "colors = [\"magenta\", \"blue\"]\n",
    "for box, color in zip(boxplot['boxes'], colors):\n",
    "    box.set_facecolor(color)\n",
    "\n",
    "for element in ['caps', 'whiskers', 'medians']:\n",
    "    plt.setp(boxplot[element], color=\"black\")\n",
    "\n",
    "ax.set_xticks([1, 2], [\"Age\", \"BMI\"])\n",
    "ax.set_title(\"Boxplots\",size=18)"
   ]
  },
  {
   "cell_type": "code",
   "execution_count": null,
   "metadata": {
    "execution": {
     "iopub.execute_input": "2023-12-27T14:20:34.310241Z",
     "iopub.status.busy": "2023-12-27T14:20:34.309792Z",
     "iopub.status.idle": "2023-12-27T14:20:34.319008Z",
     "shell.execute_reply": "2023-12-27T14:20:34.317488Z",
     "shell.execute_reply.started": "2023-12-27T14:20:34.310205Z"
    }
   },
   "outputs": [],
   "source": [
    "# define a function to remove the outliers with IQR methods\n",
    "\n",
    "def detect_outlier(data,treshold=1.5):\n",
    "    q1 = np.quantile(data,0.25)\n",
    "    q3 = np.quantile(data,0.75)\n",
    "    iqr = q3 - q1\n",
    "\n",
    "    lower_bound = q1 - treshold * iqr\n",
    "    upper_bound = q3 + treshold * iqr\n",
    "\n",
    "    return lower_bound,upper_bound\n"
   ]
  },
  {
   "cell_type": "code",
   "execution_count": null,
   "metadata": {
    "execution": {
     "iopub.execute_input": "2023-12-27T14:20:34.320892Z",
     "iopub.status.busy": "2023-12-27T14:20:34.320495Z",
     "iopub.status.idle": "2023-12-27T14:20:34.336265Z",
     "shell.execute_reply": "2023-12-27T14:20:34.334793Z",
     "shell.execute_reply.started": "2023-12-27T14:20:34.320854Z"
    }
   },
   "outputs": [],
   "source": [
    "# remove the BMI outlires with IQR methods and print the outlier\n",
    "low,up = detect_outlier(df[\"bmi\"])\n",
    "print(df[(df[\"bmi\"] < low) | (df[\"bmi\"] > up)])\n",
    "index = df[(df[\"bmi\"] < low) | (df[\"bmi\"] > up)].index\n",
    "df.drop(index=index,inplace=True)\n",
    "df.reset_index(drop=True,inplace=True)"
   ]
  },
  {
   "cell_type": "code",
   "execution_count": null,
   "metadata": {
    "execution": {
     "iopub.execute_input": "2023-12-27T14:20:34.338322Z",
     "iopub.status.busy": "2023-12-27T14:20:34.338005Z",
     "iopub.status.idle": "2023-12-27T14:20:34.34901Z",
     "shell.execute_reply": "2023-12-27T14:20:34.347859Z",
     "shell.execute_reply.started": "2023-12-27T14:20:34.338296Z"
    }
   },
   "outputs": [],
   "source": [
    "# check the NAN values\n",
    "df.isna().sum()"
   ]
  },
  {
   "cell_type": "code",
   "execution_count": null,
   "metadata": {
    "execution": {
     "iopub.execute_input": "2023-12-27T14:20:34.350701Z",
     "iopub.status.busy": "2023-12-27T14:20:34.350343Z",
     "iopub.status.idle": "2023-12-27T14:20:34.368259Z",
     "shell.execute_reply": "2023-12-27T14:20:34.366813Z",
     "shell.execute_reply.started": "2023-12-27T14:20:34.35067Z"
    }
   },
   "outputs": [],
   "source": [
    "# check the duplicated\n",
    "df.duplicated().sum()"
   ]
  },
  {
   "cell_type": "code",
   "execution_count": null,
   "metadata": {
    "execution": {
     "iopub.execute_input": "2023-12-27T14:20:34.369625Z",
     "iopub.status.busy": "2023-12-27T14:20:34.369313Z",
     "iopub.status.idle": "2023-12-27T14:20:34.386871Z",
     "shell.execute_reply": "2023-12-27T14:20:34.38549Z",
     "shell.execute_reply.started": "2023-12-27T14:20:34.369579Z"
    }
   },
   "outputs": [],
   "source": [
    "df[df.duplicated()]"
   ]
  },
  {
   "cell_type": "code",
   "execution_count": null,
   "metadata": {
    "execution": {
     "iopub.execute_input": "2023-12-27T14:20:34.39126Z",
     "iopub.status.busy": "2023-12-27T14:20:34.390913Z",
     "iopub.status.idle": "2023-12-27T14:20:34.400548Z",
     "shell.execute_reply": "2023-12-27T14:20:34.399589Z",
     "shell.execute_reply.started": "2023-12-27T14:20:34.391229Z"
    }
   },
   "outputs": [],
   "source": [
    "df.drop_duplicates(inplace=True)"
   ]
  },
  {
   "cell_type": "code",
   "execution_count": null,
   "metadata": {
    "execution": {
     "iopub.execute_input": "2023-12-27T14:20:34.40231Z",
     "iopub.status.busy": "2023-12-27T14:20:34.401996Z",
     "iopub.status.idle": "2023-12-27T14:20:34.413342Z",
     "shell.execute_reply": "2023-12-27T14:20:34.412669Z",
     "shell.execute_reply.started": "2023-12-27T14:20:34.402282Z"
    }
   },
   "outputs": [],
   "source": [
    "df.duplicated().sum()"
   ]
  },
  {
   "cell_type": "code",
   "execution_count": null,
   "metadata": {
    "execution": {
     "iopub.execute_input": "2023-12-27T14:20:34.417364Z",
     "iopub.status.busy": "2023-12-27T14:20:34.416878Z",
     "iopub.status.idle": "2023-12-27T14:20:34.426177Z",
     "shell.execute_reply": "2023-12-27T14:20:34.424412Z",
     "shell.execute_reply.started": "2023-12-27T14:20:34.417322Z"
    }
   },
   "outputs": [],
   "source": [
    "# map the specific values to each categorical\n",
    "mapper_sex = {\n",
    "    \"male\" : 1,\n",
    "    \"female\" : 0\n",
    "}\n",
    "\n",
    "df[\"sex\"] = df[\"sex\"].map(mapper_sex)"
   ]
  },
  {
   "cell_type": "code",
   "execution_count": null,
   "metadata": {
    "execution": {
     "iopub.execute_input": "2023-12-27T14:20:34.428296Z",
     "iopub.status.busy": "2023-12-27T14:20:34.427858Z",
     "iopub.status.idle": "2023-12-27T14:20:34.438951Z",
     "shell.execute_reply": "2023-12-27T14:20:34.43743Z",
     "shell.execute_reply.started": "2023-12-27T14:20:34.428258Z"
    }
   },
   "outputs": [],
   "source": [
    "mapper_smoker = {\n",
    "    \"yes\":1,\n",
    "    \"no\":0\n",
    "}\n",
    "df[\"smoker\"] = df[\"smoker\"].map(mapper_smoker)"
   ]
  },
  {
   "cell_type": "code",
   "execution_count": null,
   "metadata": {
    "execution": {
     "iopub.execute_input": "2023-12-27T14:20:34.441075Z",
     "iopub.status.busy": "2023-12-27T14:20:34.440719Z",
     "iopub.status.idle": "2023-12-27T14:20:34.451665Z",
     "shell.execute_reply": "2023-12-27T14:20:34.450307Z",
     "shell.execute_reply.started": "2023-12-27T14:20:34.441044Z"
    }
   },
   "outputs": [],
   "source": [
    "mapper_region = {\n",
    "    \"southeast\":0,\n",
    "    \"southwest\":1,\n",
    "    \"northwest\":2,\n",
    "    \"northeast\":3\n",
    "}\n",
    "df[\"region\"] = df[\"region\"].map(mapper_region)"
   ]
  },
  {
   "cell_type": "code",
   "execution_count": null,
   "metadata": {
    "execution": {
     "iopub.execute_input": "2023-12-27T14:20:34.452988Z",
     "iopub.status.busy": "2023-12-27T14:20:34.452631Z",
     "iopub.status.idle": "2023-12-27T14:20:34.467809Z",
     "shell.execute_reply": "2023-12-27T14:20:34.466712Z",
     "shell.execute_reply.started": "2023-12-27T14:20:34.452957Z"
    }
   },
   "outputs": [],
   "source": [
    "# check the dtypes and ensure to every features are numeric values\n",
    "df.dtypes"
   ]
  },
  {
   "cell_type": "code",
   "execution_count": null,
   "metadata": {
    "execution": {
     "iopub.execute_input": "2023-12-27T14:20:34.469463Z",
     "iopub.status.busy": "2023-12-27T14:20:34.469091Z",
     "iopub.status.idle": "2023-12-27T14:20:34.704381Z",
     "shell.execute_reply": "2023-12-27T14:20:34.703476Z",
     "shell.execute_reply.started": "2023-12-27T14:20:34.469425Z"
    }
   },
   "outputs": [],
   "source": [
    "# grouped data into smokers and get mean values on charges columns\n",
    "fig , ax = plt.subplots()\n",
    "df.groupby(\"smoker\").mean()[\"charges\"].plot(kind=\"bar\",ax=ax,width=0.2)\n",
    "ax.set(title=\"Smokers mean of charges\",xticks=[0,1],\n",
    "       xticklabels=[\"No\",\"Yes\"])\n",
    "ax.grid(axis=\"y\",ls=\"--\",color=\"gray\")"
   ]
  },
  {
   "cell_type": "code",
   "execution_count": null,
   "metadata": {
    "execution": {
     "iopub.execute_input": "2023-12-27T14:20:34.706221Z",
     "iopub.status.busy": "2023-12-27T14:20:34.705571Z",
     "iopub.status.idle": "2023-12-27T14:20:35.106401Z",
     "shell.execute_reply": "2023-12-27T14:20:35.104766Z",
     "shell.execute_reply.started": "2023-12-27T14:20:34.706182Z"
    }
   },
   "outputs": [],
   "source": [
    "# plot heatmap and check the correlation between features\n",
    "corr = df.corr()\n",
    "\n",
    "fig , ax = plt.subplots(figsize=(10,7))\n",
    "sns.heatmap(corr,annot=True,cmap=\"Blues\",ax=ax)\n",
    "ax.set_title(\"HeatMap\",size=20,color=\"blue\");"
   ]
  },
  {
   "cell_type": "code",
   "execution_count": null,
   "metadata": {
    "execution": {
     "iopub.execute_input": "2023-12-27T14:20:35.10849Z",
     "iopub.status.busy": "2023-12-27T14:20:35.108148Z",
     "iopub.status.idle": "2023-12-27T14:20:35.312878Z",
     "shell.execute_reply": "2023-12-27T14:20:35.311794Z",
     "shell.execute_reply.started": "2023-12-27T14:20:35.108459Z"
    }
   },
   "outputs": [],
   "source": [
    "# plot the barplot on number of children\n",
    "fig , ax = plt.subplots()\n",
    "df[\"children\"].value_counts().plot(kind=\"bar\",ax=ax,colormap=\"plasma\")\n",
    "ax.grid(axis=\"y\",ls=\"--\",color=\"gray\")\n",
    "ax.set(ylabel=\"counts\",title=\"Number of Children\");"
   ]
  },
  {
   "cell_type": "code",
   "execution_count": null,
   "metadata": {
    "execution": {
     "iopub.execute_input": "2023-12-27T14:20:35.314629Z",
     "iopub.status.busy": "2023-12-27T14:20:35.314269Z",
     "iopub.status.idle": "2023-12-27T14:20:49.46214Z",
     "shell.execute_reply": "2023-12-27T14:20:49.460838Z",
     "shell.execute_reply.started": "2023-12-27T14:20:35.314578Z"
    }
   },
   "outputs": [],
   "source": [
    "# plot features versus features\n",
    "sns.pairplot(df,hue=\"smoker\")"
   ]
  },
  {
   "cell_type": "code",
   "execution_count": null,
   "metadata": {
    "execution": {
     "iopub.execute_input": "2023-12-27T14:20:49.464216Z",
     "iopub.status.busy": "2023-12-27T14:20:49.463823Z",
     "iopub.status.idle": "2023-12-27T14:20:49.47199Z",
     "shell.execute_reply": "2023-12-27T14:20:49.470695Z",
     "shell.execute_reply.started": "2023-12-27T14:20:49.464178Z"
    }
   },
   "outputs": [],
   "source": [
    "# determine the features(X) and target(y)\n",
    "X = np.array(df.iloc[:,:-1])\n",
    "y = np.array(df[\"charges\"])"
   ]
  },
  {
   "cell_type": "code",
   "execution_count": null,
   "metadata": {
    "execution": {
     "iopub.execute_input": "2023-12-27T14:20:49.474215Z",
     "iopub.status.busy": "2023-12-27T14:20:49.473774Z",
     "iopub.status.idle": "2023-12-27T14:20:49.48776Z",
     "shell.execute_reply": "2023-12-27T14:20:49.485684Z",
     "shell.execute_reply.started": "2023-12-27T14:20:49.474176Z"
    }
   },
   "outputs": [],
   "source": [
    "# split data to testset for evaluating data and train set for training the model\n",
    "X_train,X_test,y_train,y_test = train_test_split(X,y,test_size=0.25,random_state=0)"
   ]
  },
  {
   "cell_type": "code",
   "execution_count": null,
   "metadata": {
    "execution": {
     "iopub.execute_input": "2023-12-27T14:20:49.494774Z",
     "iopub.status.busy": "2023-12-27T14:20:49.494391Z",
     "iopub.status.idle": "2023-12-27T14:20:49.503555Z",
     "shell.execute_reply": "2023-12-27T14:20:49.502561Z",
     "shell.execute_reply.started": "2023-12-27T14:20:49.494743Z"
    }
   },
   "outputs": [],
   "source": [
    "#scaling with method of Standard Scaling\n",
    "scaler = StandardScaler().fit(X_train)\n",
    "X_train_s = scaler.transform(X_train)\n",
    "X_test_s = scaler.transform(X_test)"
   ]
  },
  {
   "cell_type": "code",
   "execution_count": null,
   "metadata": {
    "execution": {
     "iopub.execute_input": "2023-12-27T14:20:49.506711Z",
     "iopub.status.busy": "2023-12-27T14:20:49.505817Z",
     "iopub.status.idle": "2023-12-27T14:20:49.538252Z",
     "shell.execute_reply": "2023-12-27T14:20:49.536424Z",
     "shell.execute_reply.started": "2023-12-27T14:20:49.506662Z"
    }
   },
   "outputs": [],
   "source": [
    "# build a model of Linear Regression and evaluate the metrics\n",
    "lin_reg = LinearRegression().fit(X_train_s,y_train)\n",
    "pred_lin = lin_reg.predict(X_test_s)\n",
    "mse_lin = mean_squared_error(y_test,pred_lin)\n",
    "rmse_lin = np.sqrt(mse_lin)\n",
    "mae_lin = mean_absolute_error(y_test,pred_lin)\n",
    "r2_lin = r2_score(y_test,pred_lin)"
   ]
  },
  {
   "cell_type": "code",
   "execution_count": null,
   "metadata": {
    "execution": {
     "iopub.execute_input": "2023-12-27T14:20:49.541266Z",
     "iopub.status.busy": "2023-12-27T14:20:49.540733Z",
     "iopub.status.idle": "2023-12-27T14:20:49.816223Z",
     "shell.execute_reply": "2023-12-27T14:20:49.814975Z",
     "shell.execute_reply.started": "2023-12-27T14:20:49.541222Z"
    }
   },
   "outputs": [],
   "source": [
    "# plot std of true values versus predicted values \n",
    "fig , ax = plt.subplots()\n",
    "ax.scatter(y_test,pred_lin,c=\"blue\")\n",
    "ax.plot(y_test,y_test,ls=\"--\",color=\"red\")\n",
    "ax.set(xlabel=\"Actual Values\",ylabel=\"Predicted Values\",\n",
    "       title=\"Evaluating Lieanr Regression\")\n",
    "ax.grid(axis=\"both\",ls=\"--\",color=\"gray\")\n",
    "#ax.set(xlim=[0,65000],ylim=[0,65000])"
   ]
  },
  {
   "cell_type": "code",
   "execution_count": null,
   "metadata": {
    "execution": {
     "iopub.execute_input": "2023-12-27T14:20:49.81891Z",
     "iopub.status.busy": "2023-12-27T14:20:49.818439Z",
     "iopub.status.idle": "2023-12-27T14:20:49.82718Z",
     "shell.execute_reply": "2023-12-27T14:20:49.82577Z",
     "shell.execute_reply.started": "2023-12-27T14:20:49.818868Z"
    }
   },
   "outputs": [],
   "source": [
    "# get number of values had predicted negative\n",
    "(pred_lin < 0).sum()"
   ]
  },
  {
   "cell_type": "markdown",
   "metadata": {},
   "source": [
    "- 8 values of test set  predicted less than 0 and they are negative"
   ]
  },
  {
   "cell_type": "code",
   "execution_count": null,
   "metadata": {
    "execution": {
     "iopub.execute_input": "2023-12-27T14:20:49.829992Z",
     "iopub.status.busy": "2023-12-27T14:20:49.828729Z",
     "iopub.status.idle": "2023-12-27T14:20:49.83913Z",
     "shell.execute_reply": "2023-12-27T14:20:49.837773Z",
     "shell.execute_reply.started": "2023-12-27T14:20:49.829943Z"
    }
   },
   "outputs": [],
   "source": [
    "# print metrics of Linear Regression\n",
    "print(\"mse for linear regression:\",mse_lin.round(2))\n",
    "print(\"mae for linear regression:\",mae_lin.round(2))\n",
    "print(\"rmse for linear regression:\",rmse_lin.round(2))\n",
    "print(\"r2-score for linear regression:\",r2_lin.round(3))"
   ]
  },
  {
   "cell_type": "code",
   "execution_count": null,
   "metadata": {
    "execution": {
     "iopub.execute_input": "2023-12-27T14:20:49.841702Z",
     "iopub.status.busy": "2023-12-27T14:20:49.84116Z",
     "iopub.status.idle": "2023-12-27T14:20:50.040101Z",
     "shell.execute_reply": "2023-12-27T14:20:50.039053Z",
     "shell.execute_reply.started": "2023-12-27T14:20:49.841661Z"
    }
   },
   "outputs": [],
   "source": [
    "fig , ax = plt.subplots()\n",
    "x = np.arange(6)\n",
    "ax.barh(x,lin_reg.coef_,color=\"m\")\n",
    "ax.set_yticks(x,df.columns[:-1])\n",
    "ax.set(xlabel=\"Coefficients\",title=\"Linear Regression\");"
   ]
  },
  {
   "cell_type": "code",
   "execution_count": null,
   "metadata": {
    "execution": {
     "iopub.execute_input": "2023-12-27T14:20:50.041456Z",
     "iopub.status.busy": "2023-12-27T14:20:50.041206Z",
     "iopub.status.idle": "2023-12-27T14:20:50.326679Z",
     "shell.execute_reply": "2023-12-27T14:20:50.325401Z",
     "shell.execute_reply.started": "2023-12-27T14:20:50.041432Z"
    }
   },
   "outputs": [],
   "source": [
    "grb_reg = GradientBoostingRegressor(n_estimators=350,learning_rate=0.05,random_state=0,max_depth=2)\n",
    "grb_reg.fit(X_train_s,y_train)\n",
    "pred_grb = grb_reg.predict(X_test_s)\n",
    "mse_grb = mean_squared_error(y_test,pred_grb)\n",
    "rmse_grb = np.sqrt(mse_grb)\n",
    "mae_grb = mean_absolute_error(y_test,pred_grb)\n",
    "r2_grb = r2_score(y_test,pred_grb)"
   ]
  },
  {
   "cell_type": "code",
   "execution_count": null,
   "metadata": {
    "execution": {
     "iopub.execute_input": "2023-12-27T14:20:50.328834Z",
     "iopub.status.busy": "2023-12-27T14:20:50.328466Z",
     "iopub.status.idle": "2023-12-27T14:20:50.59117Z",
     "shell.execute_reply": "2023-12-27T14:20:50.590344Z",
     "shell.execute_reply.started": "2023-12-27T14:20:50.328802Z"
    }
   },
   "outputs": [],
   "source": [
    "fig , ax = plt.subplots()\n",
    "ax.scatter(y_test,pred_grb,c=\"blue\")\n",
    "ax.plot(y_test,y_test,ls=\"--\",color=\"red\")\n",
    "ax.set(xlabel=\"Actual Values\",ylabel=\"Predicted Values\",\n",
    "       title=\"Evaluating Gradient Boosting Regression\")\n",
    "ax.grid(axis=\"both\",ls=\"--\",color=\"gray\")\n",
    "#ax.set(xlim=[0,65000],ylim=[0,65000])"
   ]
  },
  {
   "cell_type": "code",
   "execution_count": null,
   "metadata": {
    "execution": {
     "iopub.execute_input": "2023-12-27T14:20:50.593201Z",
     "iopub.status.busy": "2023-12-27T14:20:50.592868Z",
     "iopub.status.idle": "2023-12-27T14:20:50.601335Z",
     "shell.execute_reply": "2023-12-27T14:20:50.599887Z",
     "shell.execute_reply.started": "2023-12-27T14:20:50.59317Z"
    }
   },
   "outputs": [],
   "source": [
    "(pred_grb < 0).sum()"
   ]
  },
  {
   "cell_type": "markdown",
   "metadata": {},
   "source": [
    "- None of them were predicted negative"
   ]
  },
  {
   "cell_type": "code",
   "execution_count": null,
   "metadata": {
    "execution": {
     "iopub.execute_input": "2023-12-27T14:20:50.603783Z",
     "iopub.status.busy": "2023-12-27T14:20:50.603423Z",
     "iopub.status.idle": "2023-12-27T14:20:50.805829Z",
     "shell.execute_reply": "2023-12-27T14:20:50.804678Z",
     "shell.execute_reply.started": "2023-12-27T14:20:50.603758Z"
    }
   },
   "outputs": [],
   "source": [
    "fig , ax = plt.subplots()\n",
    "x = np.arange(6)\n",
    "ax.barh(x,grb_reg.feature_importances_,color=\"m\")\n",
    "ax.set_yticks(x,df.columns[:-1])\n",
    "ax.set(xlabel=\"Feature Importances\",title=\"Gradient Boosting Regression\");"
   ]
  },
  {
   "cell_type": "code",
   "execution_count": null,
   "metadata": {
    "execution": {
     "iopub.execute_input": "2023-12-27T14:20:50.807793Z",
     "iopub.status.busy": "2023-12-27T14:20:50.807198Z",
     "iopub.status.idle": "2023-12-27T14:20:50.814157Z",
     "shell.execute_reply": "2023-12-27T14:20:50.812658Z",
     "shell.execute_reply.started": "2023-12-27T14:20:50.807764Z"
    }
   },
   "outputs": [],
   "source": [
    "print(\"mse for linear regression:\",mse_grb.round(2))\n",
    "print(\"mae for linear regression:\",mae_grb.round(2))\n",
    "print(\"rmse for linear regression:\",rmse_grb.round(2))\n",
    "print(\"r2-score for linear regression:\",r2_grb.round(3))"
   ]
  },
  {
   "cell_type": "code",
   "execution_count": null,
   "metadata": {
    "execution": {
     "iopub.execute_input": "2023-12-27T14:20:50.817152Z",
     "iopub.status.busy": "2023-12-27T14:20:50.81559Z",
     "iopub.status.idle": "2023-12-27T14:20:51.07608Z",
     "shell.execute_reply": "2023-12-27T14:20:51.075151Z",
     "shell.execute_reply.started": "2023-12-27T14:20:50.817087Z"
    }
   },
   "outputs": [],
   "source": [
    "rmse = [rmse_grb,rmse_lin]\n",
    "r2 = [r2_grb,r2_lin]\n",
    "\n",
    "x = [0,0.5]\n",
    "\n",
    "fig , ax = plt.subplots(1,2,figsize=(10,4))\n",
    "ax[0].bar(x,rmse,width=0.15,color=[\"blue\",\"green\"])\n",
    "ax[0].set(xticks=[0,0.5],xticklabels=[\"Gradient\",\"Linear\"],\n",
    "          ylabel=\"RMSE\")\n",
    "ax[1].bar(x,r2,width=0.15,color=[\"blue\",\"green\"])\n",
    "ax[1].set(xticks=[0,0.5],xticklabels=[\"Gradient\",\"Linear\"],\n",
    "          ylabel=\"r2 score\")\n",
    "fig.suptitle(\"Comparing the Linear and Ensembel models\");"
   ]
  }
 ],
 "metadata": {
  "kaggle": {
   "accelerator": "none",
   "dataSources": [
    {
     "datasetId": 514919,
     "sourceId": 949070,
     "sourceType": "datasetVersion"
    }
   ],
   "dockerImageVersionId": 30626,
   "isGpuEnabled": false,
   "isInternetEnabled": false,
   "language": "python",
   "sourceType": "notebook"
  },
  "kernelspec": {
   "display_name": "Python 3 (ipykernel)",
   "language": "python",
   "name": "python3"
  },
  "language_info": {
   "codemirror_mode": {
    "name": "ipython",
    "version": 3
   },
   "file_extension": ".py",
   "mimetype": "text/x-python",
   "name": "python",
   "nbconvert_exporter": "python",
   "pygments_lexer": "ipython3",
   "version": "3.11.5"
  }
 },
 "nbformat": 4,
 "nbformat_minor": 4
}
